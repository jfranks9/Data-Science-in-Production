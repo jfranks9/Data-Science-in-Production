{
 "cells": [
  {
   "cell_type": "code",
   "execution_count": 2,
   "metadata": {},
   "outputs": [
    {
     "name": "stdout",
     "output_type": "stream",
     "text": [
      "{'response': 'Hello from Cloud Function', 'success': True}\n"
     ]
    }
   ],
   "source": [
    "#Testing GCP function\n",
    "\n",
    "import requests \n",
    "\n",
    "result = requests.post(  \"https://us-central1-boreal-ward-273814.cloudfunctions.net/DSP_01\"  \n",
    "                       ,json = {'msg': 'Hello from Cloud Function'})  \n",
    "\n",
    "print(result.json()) \n",
    "\n"
   ]
  },
  {
   "cell_type": "code",
   "execution_count": null,
   "metadata": {},
   "outputs": [],
   "source": []
  }
 ],
 "metadata": {
  "kernelspec": {
   "display_name": "Python 3",
   "language": "python",
   "name": "python3"
  },
  "language_info": {
   "codemirror_mode": {
    "name": "ipython",
    "version": 3
   },
   "file_extension": ".py",
   "mimetype": "text/x-python",
   "name": "python",
   "nbconvert_exporter": "python",
   "pygments_lexer": "ipython3",
   "version": "3.7.6"
  }
 },
 "nbformat": 4,
 "nbformat_minor": 4
}
