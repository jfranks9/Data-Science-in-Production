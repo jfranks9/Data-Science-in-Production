{
 "cells": [
  {
   "cell_type": "code",
   "execution_count": 3,
   "metadata": {},
   "outputs": [
    {
     "name": "stdout",
     "output_type": "stream",
     "text": [
      "{'response': 'Hello from Gunicorn', 'success': True}\n"
     ]
    }
   ],
   "source": [
    "#Gunicorn\n",
    "#Test Script\n",
    "import requests\n",
    "\n",
    "result = requests.get(\"http://172.31.83.152:8000/\",  params = {'msg': 'Hello from Gunicorn'})  \n",
    "\n",
    "print(result.json()) \n",
    "\n",
    "#note heroku login needs --interactive to work from cli"
   ]
  },
  {
   "cell_type": "code",
   "execution_count": 5,
   "metadata": {},
   "outputs": [
    {
     "name": "stdout",
     "output_type": "stream",
     "text": [
      "{'response': 'Hello from Heroku Local', 'success': True}\n"
     ]
    }
   ],
   "source": [
    "result = requests.get(\"http://localhost:5000/\",  \n",
    "                      params = {'msg': 'Hello from Heroku Local'})  \n",
    "\n",
    "print(result.json()) \n",
    "\n"
   ]
  },
  {
   "cell_type": "code",
   "execution_count": 7,
   "metadata": {},
   "outputs": [
    {
     "name": "stdout",
     "output_type": "stream",
     "text": [
      "{'response': 'Hello from Heroku Prod', 'success': True}\n"
     ]
    }
   ],
   "source": [
    "#Heroku web test\n",
    "\n",
    "\n",
    "result = requests.get(\"https://rocky-fjord-35228.herokuapp.com\",  \n",
    "                      params = {'msg': 'Hello from Heroku Prod'})  \n",
    "\n",
    "print(result.json()) \n"
   ]
  },
  {
   "cell_type": "code",
   "execution_count": 9,
   "metadata": {},
   "outputs": [
    {
     "name": "stdout",
     "output_type": "stream",
     "text": [
      " * Serving Flask app \"__main__\" (lazy loading)\n",
      " * Environment: production\n",
      "\u001b[31m   WARNING: This is a development server. Do not use it in a production deployment.\u001b[0m\n",
      "\u001b[2m   Use a production WSGI server instead.\u001b[0m\n",
      " * Debug mode: off\n"
     ]
    },
    {
     "name": "stderr",
     "output_type": "stream",
     "text": [
      " * Running on http://0.0.0.0:8050/ (Press CTRL+C to quit)\n",
      "24.27.108.251 - - [09/Apr/2020 20:48:28] \"\u001b[37mGET / HTTP/1.1\u001b[0m\" 200 -\n",
      "24.27.108.251 - - [09/Apr/2020 20:48:28] \"\u001b[37mGET /_dash-layout HTTP/1.1\u001b[0m\" 200 -\n",
      "24.27.108.251 - - [09/Apr/2020 20:48:28] \"\u001b[37mGET /_dash-dependencies HTTP/1.1\u001b[0m\" 200 -\n",
      "24.27.108.251 - - [09/Apr/2020 20:48:28] \"\u001b[37mPOST /_dash-update-component HTTP/1.1\u001b[0m\" 200 -\n"
     ]
    }
   ],
   "source": [
    "#dash_app.py\n",
    "\n",
    "import dash  \n",
    "import dash_html_components as html  \n",
    "import dash_core_components as dcc  \n",
    "from dash.dependencies import Input, Output  \n",
    "import pandas as pd  \n",
    "import mlflow.sklearn \n",
    "\n",
    "app = dash.Dash(__name__)  \n",
    "\n",
    "app.layout = html.Div(children=[  \n",
    "    html.H1(children='Model UI'),  \n",
    "   \n",
    "    html.P([  \n",
    "       html.Label('Game 1'),  \n",
    "        dcc.Input(value='1', type='text', id='g1'),  \n",
    "        ]),\n",
    "\n",
    "    \n",
    "    html.Div([  html.Label('Game 2'),  \n",
    "              dcc.Input(value='0', type='text', id='g2'),  \n",
    "        ]), \n",
    "    \n",
    "    \n",
    "    html.P([  html.Label('Prediction'),  \n",
    "            dcc.Input(value='0', type='text', id='pred')  ]),  \n",
    "        ]) \n",
    "\n",
    "\n",
    "model_path = \"models/logit_games_v1\"  \n",
    "model = mlflow.sklearn.load_model(model_path)  \n",
    "\n",
    "@app.callback(  \n",
    "    Output(component_id='pred', component_property='value'),  \n",
    "    [Input(component_id='g1', component_property='value'),  \n",
    "     Input(component_id='g2', component_property='value')]  \n",
    ")  \n",
    "\n",
    "def update_prediction(game1, game2):  \n",
    "    new_row = {\"G1\": float(game1),  \n",
    "               \"G2\": float(game2),  \n",
    "               \"G3\": 0, \"G4\": 0,\n",
    "               \"G5\": 0, \"G6\": 0,  \n",
    "               \"G7\": 0, \"G8\": 0,  \n",
    "               \"G9\": 0, \"G10\":0}  \n",
    "    \n",
    "    new_x = pd.DataFrame.from_dict(new_row,  \n",
    "                                   orient = \"index\").transpose()  \n",
    "    \n",
    "    return str(model.predict_proba(new_x)[0][1]) \n",
    "\n",
    "\n",
    "\n",
    "if  __name__  == '__main__':  \n",
    "    app.run_server(host='0.0.0.0') \n"
   ]
  },
  {
   "cell_type": "code",
   "execution_count": null,
   "metadata": {},
   "outputs": [],
   "source": []
  }
 ],
 "metadata": {
  "kernelspec": {
   "display_name": "Python 3",
   "language": "python",
   "name": "python3"
  },
  "language_info": {
   "codemirror_mode": {
    "name": "ipython",
    "version": 3
   },
   "file_extension": ".py",
   "mimetype": "text/x-python",
   "name": "python",
   "nbconvert_exporter": "python",
   "pygments_lexer": "ipython3",
   "version": "3.7.6"
  }
 },
 "nbformat": 4,
 "nbformat_minor": 4
}
