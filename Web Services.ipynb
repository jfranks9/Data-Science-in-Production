{
 "cells": [
  {
   "cell_type": "code",
   "execution_count": 8,
   "metadata": {},
   "outputs": [
    {
     "name": "stdout",
     "output_type": "stream",
     "text": [
      "Raw: <Response [200]>\n",
      "JSON: {'used': False, 'source': 'api', 'type': 'cat', 'deleted': False, '_id': '591f9894d369931519ce3593', '__v': 0, 'text': 'The average cat food meal is the equivalent to about five mice.', 'updatedAt': '2020-01-02T02:02:48.616Z', 'createdAt': '2018-01-04T01:10:54.673Z', 'status': {'verified': True, 'sentCount': 1}, 'user': '5a9ac18c7478810ea6c06381'}\n",
      "JSON Processed: The average cat food meal is the equivalent to about five mice.\n"
     ]
    }
   ],
   "source": [
    "#Basics of web services\n",
    "\n",
    "import requests  \n",
    "\n",
    "\n",
    "result = requests.get(\"http://cat-fact.herokuapp.com/facts/random\")  \n",
    "\n",
    "print(\"Raw: \" + str(result) ) \n",
    "\n",
    "print(\"JSON: \" + str(result.json()))  \n",
    "\n",
    "print(\"JSON Processed: \" + str(result.json()['text']) )\n",
    "\n"
   ]
  },
  {
   "cell_type": "code",
   "execution_count": 11,
   "metadata": {},
   "outputs": [],
   "source": [
    "#Echo Service\n",
    "\n",
    "import flask  \n",
    "app = flask.Flask(__name__)  \n",
    "\n",
    "@app.route(\"/\", methods=[\"GET\",\"POST\"])  \n",
    "\n",
    "def predict():  \n",
    "    data = {\"success\": False}  \n",
    "    \n",
    "    #check for passed in parameters  \n",
    "    params = flask.request.json  \n",
    "    if params is None:  \n",
    "        params = flask.request.args  \n",
    "    \n",
    "    #if parameters are found, echo the msg parameter  \n",
    "    if \"msg\" in params.keys():  \n",
    "        data[\"response\"] = params.get(\"msg\")  \n",
    "        data[\"success\"] = True  \n",
    "        \n",
    "    return flask.jsonify(data)  \n",
    "    \n",
    "if  __name__  == '__main__':  \n",
    "   app.run(host='0.0.0.0') \n",
    "\n",
    "#Create this as a python file by using touch echo.py\n",
    "#then vim echo.py"
   ]
  },
  {
   "cell_type": "code",
   "execution_count": 12,
   "metadata": {},
   "outputs": [
    {
     "name": "stdout",
     "output_type": "stream",
     "text": [
      "{'response': 'HelloWorld!', 'success': True}\n",
      "{'response': 'Hello from params', 'success': True}\n",
      "{'response': 'Hello from data', 'success': True}\n"
     ]
    }
   ],
   "source": [
    "  #Passing Paramaters\n",
    "#Use your private IP\n",
    "    \n",
    "result = requests.get(\"http://172.31.83.152:5000/?msg=HelloWorld!\") \n",
    "print(result.json())  \n",
    "\n",
    "\n",
    "\n",
    "result = requests.get(\"http://172.31.83.152:5000/\",  params = {'msg': 'Hello from params'})  \n",
    "print(result.json())  \n",
    "\n",
    "\n",
    "\n",
    "result = requests.post(\"http://172.31.83.152:5000/\",  json= {'msg': 'Hello from data'})  \n",
    "\n",
    "print(result.json()) \n",
    "\n"
   ]
  }
 ],
 "metadata": {
  "kernelspec": {
   "display_name": "Python 3",
   "language": "python",
   "name": "python3"
  },
  "language_info": {
   "codemirror_mode": {
    "name": "ipython",
    "version": 3
   },
   "file_extension": ".py",
   "mimetype": "text/x-python",
   "name": "python",
   "nbconvert_exporter": "python",
   "pygments_lexer": "ipython3",
   "version": "3.7.6"
  }
 },
 "nbformat": 4,
 "nbformat_minor": 4
}
